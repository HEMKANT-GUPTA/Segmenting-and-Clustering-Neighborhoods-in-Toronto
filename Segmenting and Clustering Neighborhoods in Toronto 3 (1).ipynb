{
 "cells": [
  {
   "cell_type": "code",
   "execution_count": 1,
   "metadata": {},
   "outputs": [
    {
     "name": "stdout",
     "output_type": "stream",
     "text": [
      "Requirement already satisfied: geopy in c:\\users\\hem\\anaconda3\\lib\\site-packages (1.20.0)\n",
      "Requirement already satisfied: geographiclib<2,>=1.49 in c:\\users\\hem\\anaconda3\\lib\\site-packages (from geopy) (1.50)\n",
      "Note: you may need to restart the kernel to use updated packages.\n"
     ]
    }
   ],
   "source": [
    "pip install geopy"
   ]
  },
  {
   "cell_type": "code",
   "execution_count": 2,
   "metadata": {},
   "outputs": [
    {
     "name": "stdout",
     "output_type": "stream",
     "text": [
      "Libraries imported.\n"
     ]
    }
   ],
   "source": [
    "import numpy as np\n",
    "import pandas as pd\n",
    "pd.set_option(\"display.max_columns\", None)\n",
    "pd.set_option(\"display.max_rows\", None)\n",
    "import json \n",
    "from geopy.geocoders import Nominatim \n",
    "import requests \n",
    "from bs4 import BeautifulSoup \n",
    "from pandas.io.json import json_normalize \n",
    "import matplotlib.cm as cm\n",
    "import matplotlib.colors as colors\n",
    "from sklearn.cluster import KMeans\n",
    "import folium \n",
    "print(\"Libraries imported.\")"
   ]
  },
  {
   "cell_type": "markdown",
   "metadata": {},
   "source": [
    "## scraping data from wikipedia"
   ]
  },
  {
   "cell_type": "code",
   "execution_count": 3,
   "metadata": {},
   "outputs": [],
   "source": [
    "# send the request GET\n",
    "data = requests.get('https://en.wikipedia.org/wiki/List_of_postal_codes_of_Canada:_M').text"
   ]
  },
  {
   "cell_type": "code",
   "execution_count": 4,
   "metadata": {},
   "outputs": [],
   "source": [
    "#PARSING DATA FROM HTML TO BEAUTIFUL SOUP\n",
    "soup = BeautifulSoup(data, 'html.parser')"
   ]
  },
  {
   "cell_type": "code",
   "execution_count": 5,
   "metadata": {},
   "outputs": [],
   "source": [
    "#creating list to store data from table\n",
    "postalCode = []\n",
    "borough = []\n",
    "neighborhood = []"
   ]
  },
  {
   "cell_type": "code",
   "execution_count": 6,
   "metadata": {},
   "outputs": [],
   "source": [
    "#Using BeautifulSoup\n",
    "\n",
    "# find the table\n",
    "soup.find('table')\n",
    "\n",
    "# find all the rows of the table\n",
    "rows=soup.find('table').find_all('tr')\n",
    "\n",
    "# for each row of the table, find all the table data\n",
    "for row in rows:\n",
    "    cells = row.find_all('td')\n",
    "    "
   ]
  },
  {
   "cell_type": "code",
   "execution_count": 7,
   "metadata": {},
   "outputs": [],
   "source": [
    "for row in rows:\n",
    "    cells = row.find_all('td')\n",
    "    if(len(cells) > 0):\n",
    "        postalCode.append(cells[0].text)\n",
    "        borough.append(cells[1].text)\n",
    "        neighborhood.append(cells[2].text.rstrip('\\n')) # avoid new lines in neighborhood cell"
   ]
  },
  {
   "cell_type": "code",
   "execution_count": 8,
   "metadata": {},
   "outputs": [
    {
     "data": {
      "text/html": [
       "<div>\n",
       "<style scoped>\n",
       "    .dataframe tbody tr th:only-of-type {\n",
       "        vertical-align: middle;\n",
       "    }\n",
       "\n",
       "    .dataframe tbody tr th {\n",
       "        vertical-align: top;\n",
       "    }\n",
       "\n",
       "    .dataframe thead th {\n",
       "        text-align: right;\n",
       "    }\n",
       "</style>\n",
       "<table border=\"1\" class=\"dataframe\">\n",
       "  <thead>\n",
       "    <tr style=\"text-align: right;\">\n",
       "      <th></th>\n",
       "      <th>PostalCode</th>\n",
       "      <th>Borough</th>\n",
       "      <th>Neighborhood</th>\n",
       "    </tr>\n",
       "  </thead>\n",
       "  <tbody>\n",
       "    <tr>\n",
       "      <th>0</th>\n",
       "      <td>M1A</td>\n",
       "      <td>Not assigned</td>\n",
       "      <td>Not assigned</td>\n",
       "    </tr>\n",
       "    <tr>\n",
       "      <th>1</th>\n",
       "      <td>M2A</td>\n",
       "      <td>Not assigned</td>\n",
       "      <td>Not assigned</td>\n",
       "    </tr>\n",
       "    <tr>\n",
       "      <th>2</th>\n",
       "      <td>M3A</td>\n",
       "      <td>North York</td>\n",
       "      <td>Parkwoods</td>\n",
       "    </tr>\n",
       "    <tr>\n",
       "      <th>3</th>\n",
       "      <td>M4A</td>\n",
       "      <td>North York</td>\n",
       "      <td>Victoria Village</td>\n",
       "    </tr>\n",
       "    <tr>\n",
       "      <th>4</th>\n",
       "      <td>M5A</td>\n",
       "      <td>Downtown Toronto</td>\n",
       "      <td>Harbourfront</td>\n",
       "    </tr>\n",
       "  </tbody>\n",
       "</table>\n",
       "</div>"
      ],
      "text/plain": [
       "  PostalCode           Borough      Neighborhood\n",
       "0        M1A      Not assigned      Not assigned\n",
       "1        M2A      Not assigned      Not assigned\n",
       "2        M3A        North York         Parkwoods\n",
       "3        M4A        North York  Victoria Village\n",
       "4        M5A  Downtown Toronto      Harbourfront"
      ]
     },
     "execution_count": 8,
     "metadata": {},
     "output_type": "execute_result"
    }
   ],
   "source": [
    "toronto_df = pd.DataFrame({\"PostalCode\": postalCode,\n",
    "                           \"Borough\": borough,\n",
    "                           \"Neighborhood\": neighborhood})\n",
    "\n",
    "toronto_df.head()"
   ]
  },
  {
   "cell_type": "code",
   "execution_count": 9,
   "metadata": {},
   "outputs": [
    {
     "data": {
      "text/html": [
       "<div>\n",
       "<style scoped>\n",
       "    .dataframe tbody tr th:only-of-type {\n",
       "        vertical-align: middle;\n",
       "    }\n",
       "\n",
       "    .dataframe tbody tr th {\n",
       "        vertical-align: top;\n",
       "    }\n",
       "\n",
       "    .dataframe thead th {\n",
       "        text-align: right;\n",
       "    }\n",
       "</style>\n",
       "<table border=\"1\" class=\"dataframe\">\n",
       "  <thead>\n",
       "    <tr style=\"text-align: right;\">\n",
       "      <th></th>\n",
       "      <th>PostalCode</th>\n",
       "      <th>Borough</th>\n",
       "      <th>Neighborhood</th>\n",
       "    </tr>\n",
       "  </thead>\n",
       "  <tbody>\n",
       "    <tr>\n",
       "      <th>0</th>\n",
       "      <td>M3A</td>\n",
       "      <td>North York</td>\n",
       "      <td>Parkwoods</td>\n",
       "    </tr>\n",
       "    <tr>\n",
       "      <th>1</th>\n",
       "      <td>M4A</td>\n",
       "      <td>North York</td>\n",
       "      <td>Victoria Village</td>\n",
       "    </tr>\n",
       "    <tr>\n",
       "      <th>2</th>\n",
       "      <td>M5A</td>\n",
       "      <td>Downtown Toronto</td>\n",
       "      <td>Harbourfront</td>\n",
       "    </tr>\n",
       "    <tr>\n",
       "      <th>3</th>\n",
       "      <td>M5A</td>\n",
       "      <td>Downtown Toronto</td>\n",
       "      <td>Regent Park</td>\n",
       "    </tr>\n",
       "    <tr>\n",
       "      <th>4</th>\n",
       "      <td>M6A</td>\n",
       "      <td>North York</td>\n",
       "      <td>Lawrence Heights</td>\n",
       "    </tr>\n",
       "  </tbody>\n",
       "</table>\n",
       "</div>"
      ],
      "text/plain": [
       "  PostalCode           Borough      Neighborhood\n",
       "0        M3A        North York         Parkwoods\n",
       "1        M4A        North York  Victoria Village\n",
       "2        M5A  Downtown Toronto      Harbourfront\n",
       "3        M5A  Downtown Toronto       Regent Park\n",
       "4        M6A        North York  Lawrence Heights"
      ]
     },
     "execution_count": 9,
     "metadata": {},
     "output_type": "execute_result"
    }
   ],
   "source": [
    "# drop cells with a borough that is Not assigned\n",
    "toronto_df = toronto_df[toronto_df.Borough != \"Not assigned\"].reset_index(drop=True)\n",
    "toronto_df.head()"
   ]
  },
  {
   "cell_type": "code",
   "execution_count": 10,
   "metadata": {},
   "outputs": [
    {
     "data": {
      "text/html": [
       "<div>\n",
       "<style scoped>\n",
       "    .dataframe tbody tr th:only-of-type {\n",
       "        vertical-align: middle;\n",
       "    }\n",
       "\n",
       "    .dataframe tbody tr th {\n",
       "        vertical-align: top;\n",
       "    }\n",
       "\n",
       "    .dataframe thead th {\n",
       "        text-align: right;\n",
       "    }\n",
       "</style>\n",
       "<table border=\"1\" class=\"dataframe\">\n",
       "  <thead>\n",
       "    <tr style=\"text-align: right;\">\n",
       "      <th></th>\n",
       "      <th>PostalCode</th>\n",
       "      <th>Borough</th>\n",
       "      <th>Neighborhood</th>\n",
       "    </tr>\n",
       "  </thead>\n",
       "  <tbody>\n",
       "    <tr>\n",
       "      <th>0</th>\n",
       "      <td>M1B</td>\n",
       "      <td>Scarborough</td>\n",
       "      <td>Rouge, Malvern</td>\n",
       "    </tr>\n",
       "    <tr>\n",
       "      <th>1</th>\n",
       "      <td>M1C</td>\n",
       "      <td>Scarborough</td>\n",
       "      <td>Highland Creek, Rouge Hill, Port Union</td>\n",
       "    </tr>\n",
       "    <tr>\n",
       "      <th>2</th>\n",
       "      <td>M1E</td>\n",
       "      <td>Scarborough</td>\n",
       "      <td>Guildwood, Morningside, West Hill</td>\n",
       "    </tr>\n",
       "    <tr>\n",
       "      <th>3</th>\n",
       "      <td>M1G</td>\n",
       "      <td>Scarborough</td>\n",
       "      <td>Woburn</td>\n",
       "    </tr>\n",
       "    <tr>\n",
       "      <th>4</th>\n",
       "      <td>M1H</td>\n",
       "      <td>Scarborough</td>\n",
       "      <td>Cedarbrae</td>\n",
       "    </tr>\n",
       "  </tbody>\n",
       "</table>\n",
       "</div>"
      ],
      "text/plain": [
       "  PostalCode      Borough                            Neighborhood\n",
       "0        M1B  Scarborough                          Rouge, Malvern\n",
       "1        M1C  Scarborough  Highland Creek, Rouge Hill, Port Union\n",
       "2        M1E  Scarborough       Guildwood, Morningside, West Hill\n",
       "3        M1G  Scarborough                                  Woburn\n",
       "4        M1H  Scarborough                               Cedarbrae"
      ]
     },
     "execution_count": 10,
     "metadata": {},
     "output_type": "execute_result"
    }
   ],
   "source": [
    "# group neighborhoods in the same borough\n",
    "toronto_df_grp= toronto_df.groupby([\"PostalCode\", \"Borough\"], as_index=False).agg(lambda x: \", \".join(x))\n",
    "toronto_df_grp.head()"
   ]
  },
  {
   "cell_type": "code",
   "execution_count": 11,
   "metadata": {},
   "outputs": [
    {
     "data": {
      "text/html": [
       "<div>\n",
       "<style scoped>\n",
       "    .dataframe tbody tr th:only-of-type {\n",
       "        vertical-align: middle;\n",
       "    }\n",
       "\n",
       "    .dataframe tbody tr th {\n",
       "        vertical-align: top;\n",
       "    }\n",
       "\n",
       "    .dataframe thead th {\n",
       "        text-align: right;\n",
       "    }\n",
       "</style>\n",
       "<table border=\"1\" class=\"dataframe\">\n",
       "  <thead>\n",
       "    <tr style=\"text-align: right;\">\n",
       "      <th></th>\n",
       "      <th>PostalCode</th>\n",
       "      <th>Borough</th>\n",
       "      <th>Neighborhood</th>\n",
       "    </tr>\n",
       "  </thead>\n",
       "  <tbody>\n",
       "    <tr>\n",
       "      <th>0</th>\n",
       "      <td>M1B</td>\n",
       "      <td>Scarborough</td>\n",
       "      <td>Rouge, Malvern</td>\n",
       "    </tr>\n",
       "    <tr>\n",
       "      <th>1</th>\n",
       "      <td>M1C</td>\n",
       "      <td>Scarborough</td>\n",
       "      <td>Highland Creek, Rouge Hill, Port Union</td>\n",
       "    </tr>\n",
       "    <tr>\n",
       "      <th>2</th>\n",
       "      <td>M1E</td>\n",
       "      <td>Scarborough</td>\n",
       "      <td>Guildwood, Morningside, West Hill</td>\n",
       "    </tr>\n",
       "    <tr>\n",
       "      <th>3</th>\n",
       "      <td>M1G</td>\n",
       "      <td>Scarborough</td>\n",
       "      <td>Woburn</td>\n",
       "    </tr>\n",
       "    <tr>\n",
       "      <th>4</th>\n",
       "      <td>M1H</td>\n",
       "      <td>Scarborough</td>\n",
       "      <td>Cedarbrae</td>\n",
       "    </tr>\n",
       "  </tbody>\n",
       "</table>\n",
       "</div>"
      ],
      "text/plain": [
       "  PostalCode      Borough                            Neighborhood\n",
       "0        M1B  Scarborough                          Rouge, Malvern\n",
       "1        M1C  Scarborough  Highland Creek, Rouge Hill, Port Union\n",
       "2        M1E  Scarborough       Guildwood, Morningside, West Hill\n",
       "3        M1G  Scarborough                                  Woburn\n",
       "4        M1H  Scarborough                               Cedarbrae"
      ]
     },
     "execution_count": 11,
     "metadata": {},
     "output_type": "execute_result"
    }
   ],
   "source": [
    "# for Neighborhood=\"Not assigned\", make the value the same as Borough\n",
    "for index, row in toronto_df.iterrows():\n",
    "    if row[\"Neighborhood\"] == \"Not assigned\":\n",
    "        row[\"Neighborhood\"] = row[\"Borough\"]\n",
    "        \n",
    "toronto_df_grp.head()"
   ]
  },
  {
   "cell_type": "code",
   "execution_count": 12,
   "metadata": {},
   "outputs": [
    {
     "data": {
      "text/html": [
       "<div>\n",
       "<style scoped>\n",
       "    .dataframe tbody tr th:only-of-type {\n",
       "        vertical-align: middle;\n",
       "    }\n",
       "\n",
       "    .dataframe tbody tr th {\n",
       "        vertical-align: top;\n",
       "    }\n",
       "\n",
       "    .dataframe thead th {\n",
       "        text-align: right;\n",
       "    }\n",
       "</style>\n",
       "<table border=\"1\" class=\"dataframe\">\n",
       "  <thead>\n",
       "    <tr style=\"text-align: right;\">\n",
       "      <th></th>\n",
       "      <th>PostalCode</th>\n",
       "      <th>Borough</th>\n",
       "      <th>Neighborhood</th>\n",
       "    </tr>\n",
       "  </thead>\n",
       "  <tbody>\n",
       "    <tr>\n",
       "      <th>0</th>\n",
       "      <td>M5G</td>\n",
       "      <td>Downtown Toronto</td>\n",
       "      <td>Central Bay Street</td>\n",
       "    </tr>\n",
       "    <tr>\n",
       "      <th>1</th>\n",
       "      <td>M2H</td>\n",
       "      <td>North York</td>\n",
       "      <td>Hillcrest Village</td>\n",
       "    </tr>\n",
       "    <tr>\n",
       "      <th>2</th>\n",
       "      <td>M4B</td>\n",
       "      <td>East York</td>\n",
       "      <td>Woodbine Gardens, Parkview Hill</td>\n",
       "    </tr>\n",
       "    <tr>\n",
       "      <th>3</th>\n",
       "      <td>M1J</td>\n",
       "      <td>Scarborough</td>\n",
       "      <td>Scarborough Village</td>\n",
       "    </tr>\n",
       "    <tr>\n",
       "      <th>4</th>\n",
       "      <td>M4G</td>\n",
       "      <td>East York</td>\n",
       "      <td>Leaside</td>\n",
       "    </tr>\n",
       "    <tr>\n",
       "      <th>5</th>\n",
       "      <td>M4M</td>\n",
       "      <td>East Toronto</td>\n",
       "      <td>Studio District</td>\n",
       "    </tr>\n",
       "    <tr>\n",
       "      <th>6</th>\n",
       "      <td>M1R</td>\n",
       "      <td>Scarborough</td>\n",
       "      <td>Maryvale, Wexford</td>\n",
       "    </tr>\n",
       "    <tr>\n",
       "      <th>7</th>\n",
       "      <td>M9V</td>\n",
       "      <td>Etobicoke</td>\n",
       "      <td>Albion Gardens, Beaumond Heights, Humbergate, ...</td>\n",
       "    </tr>\n",
       "    <tr>\n",
       "      <th>8</th>\n",
       "      <td>M9L</td>\n",
       "      <td>North York</td>\n",
       "      <td>Humber Summit</td>\n",
       "    </tr>\n",
       "    <tr>\n",
       "      <th>9</th>\n",
       "      <td>M5V</td>\n",
       "      <td>Downtown Toronto</td>\n",
       "      <td>CN Tower, Bathurst Quay, Island airport, Harbo...</td>\n",
       "    </tr>\n",
       "    <tr>\n",
       "      <th>10</th>\n",
       "      <td>M1B</td>\n",
       "      <td>Scarborough</td>\n",
       "      <td>Rouge, Malvern</td>\n",
       "    </tr>\n",
       "    <tr>\n",
       "      <th>11</th>\n",
       "      <td>M5A</td>\n",
       "      <td>Downtown Toronto</td>\n",
       "      <td>Harbourfront, Regent Park</td>\n",
       "    </tr>\n",
       "  </tbody>\n",
       "</table>\n",
       "</div>"
      ],
      "text/plain": [
       "   PostalCode           Borough  \\\n",
       "0         M5G  Downtown Toronto   \n",
       "1         M2H        North York   \n",
       "2         M4B         East York   \n",
       "3         M1J       Scarborough   \n",
       "4         M4G         East York   \n",
       "5         M4M      East Toronto   \n",
       "6         M1R       Scarborough   \n",
       "7         M9V         Etobicoke   \n",
       "8         M9L        North York   \n",
       "9         M5V  Downtown Toronto   \n",
       "10        M1B       Scarborough   \n",
       "11        M5A  Downtown Toronto   \n",
       "\n",
       "                                         Neighborhood  \n",
       "0                                  Central Bay Street  \n",
       "1                                   Hillcrest Village  \n",
       "2                     Woodbine Gardens, Parkview Hill  \n",
       "3                                 Scarborough Village  \n",
       "4                                             Leaside  \n",
       "5                                     Studio District  \n",
       "6                                   Maryvale, Wexford  \n",
       "7   Albion Gardens, Beaumond Heights, Humbergate, ...  \n",
       "8                                       Humber Summit  \n",
       "9   CN Tower, Bathurst Quay, Island airport, Harbo...  \n",
       "10                                     Rouge, Malvern  \n",
       "11                          Harbourfront, Regent Park  "
      ]
     },
     "execution_count": 12,
     "metadata": {},
     "output_type": "execute_result"
    }
   ],
   "source": [
    "# create a new test dataframe\n",
    "colmn_names = [\"PostalCode\", \"Borough\", \"Neighborhood\"]\n",
    "test_df = pd.DataFrame(columns=colmn_names)\n",
    "\n",
    "test_list = [\"M5G\", \"M2H\", \"M4B\", \"M1J\", \"M4G\", \"M4M\", \"M1R\", \"M9V\", \"M9L\", \"M5V\", \"M1B\", \"M5A\"]\n",
    "\n",
    "for postcode in test_list:\n",
    "    test_df = test_df.append(toronto_df_grp[toronto_df_grp[\"PostalCode\"]==postcode], ignore_index=True)\n",
    "    \n",
    "test_df"
   ]
  },
  {
   "cell_type": "code",
   "execution_count": 13,
   "metadata": {},
   "outputs": [
    {
     "data": {
      "text/plain": [
       "(103, 3)"
      ]
     },
     "execution_count": 13,
     "metadata": {},
     "output_type": "execute_result"
    }
   ],
   "source": [
    "# print the number of rows of the cleaned dataframe\n",
    "toronto_df_grp.shape"
   ]
  },
  {
   "cell_type": "code",
   "execution_count": 14,
   "metadata": {},
   "outputs": [
    {
     "data": {
      "text/html": [
       "<div>\n",
       "<style scoped>\n",
       "    .dataframe tbody tr th:only-of-type {\n",
       "        vertical-align: middle;\n",
       "    }\n",
       "\n",
       "    .dataframe tbody tr th {\n",
       "        vertical-align: top;\n",
       "    }\n",
       "\n",
       "    .dataframe thead th {\n",
       "        text-align: right;\n",
       "    }\n",
       "</style>\n",
       "<table border=\"1\" class=\"dataframe\">\n",
       "  <thead>\n",
       "    <tr style=\"text-align: right;\">\n",
       "      <th></th>\n",
       "      <th>Postal Code</th>\n",
       "      <th>Latitude</th>\n",
       "      <th>Longitude</th>\n",
       "    </tr>\n",
       "  </thead>\n",
       "  <tbody>\n",
       "    <tr>\n",
       "      <th>0</th>\n",
       "      <td>M1B</td>\n",
       "      <td>43.806686</td>\n",
       "      <td>-79.194353</td>\n",
       "    </tr>\n",
       "    <tr>\n",
       "      <th>1</th>\n",
       "      <td>M1C</td>\n",
       "      <td>43.784535</td>\n",
       "      <td>-79.160497</td>\n",
       "    </tr>\n",
       "    <tr>\n",
       "      <th>2</th>\n",
       "      <td>M1E</td>\n",
       "      <td>43.763573</td>\n",
       "      <td>-79.188711</td>\n",
       "    </tr>\n",
       "    <tr>\n",
       "      <th>3</th>\n",
       "      <td>M1G</td>\n",
       "      <td>43.770992</td>\n",
       "      <td>-79.216917</td>\n",
       "    </tr>\n",
       "    <tr>\n",
       "      <th>4</th>\n",
       "      <td>M1H</td>\n",
       "      <td>43.773136</td>\n",
       "      <td>-79.239476</td>\n",
       "    </tr>\n",
       "  </tbody>\n",
       "</table>\n",
       "</div>"
      ],
      "text/plain": [
       "  Postal Code   Latitude  Longitude\n",
       "0         M1B  43.806686 -79.194353\n",
       "1         M1C  43.784535 -79.160497\n",
       "2         M1E  43.763573 -79.188711\n",
       "3         M1G  43.770992 -79.216917\n",
       "4         M1H  43.773136 -79.239476"
      ]
     },
     "execution_count": 14,
     "metadata": {},
     "output_type": "execute_result"
    }
   ],
   "source": [
    "# load the coordinates from the csv file on Coursera\n",
    "coordinates = pd.read_csv(\"Geospatial_Coordinates.csv\")\n",
    "coordinates.head()"
   ]
  },
  {
   "cell_type": "code",
   "execution_count": 15,
   "metadata": {},
   "outputs": [
    {
     "data": {
      "text/html": [
       "<div>\n",
       "<style scoped>\n",
       "    .dataframe tbody tr th:only-of-type {\n",
       "        vertical-align: middle;\n",
       "    }\n",
       "\n",
       "    .dataframe tbody tr th {\n",
       "        vertical-align: top;\n",
       "    }\n",
       "\n",
       "    .dataframe thead th {\n",
       "        text-align: right;\n",
       "    }\n",
       "</style>\n",
       "<table border=\"1\" class=\"dataframe\">\n",
       "  <thead>\n",
       "    <tr style=\"text-align: right;\">\n",
       "      <th></th>\n",
       "      <th>PostalCode</th>\n",
       "      <th>Latitude</th>\n",
       "      <th>Longitude</th>\n",
       "    </tr>\n",
       "  </thead>\n",
       "  <tbody>\n",
       "    <tr>\n",
       "      <th>0</th>\n",
       "      <td>M1B</td>\n",
       "      <td>43.806686</td>\n",
       "      <td>-79.194353</td>\n",
       "    </tr>\n",
       "    <tr>\n",
       "      <th>1</th>\n",
       "      <td>M1C</td>\n",
       "      <td>43.784535</td>\n",
       "      <td>-79.160497</td>\n",
       "    </tr>\n",
       "    <tr>\n",
       "      <th>2</th>\n",
       "      <td>M1E</td>\n",
       "      <td>43.763573</td>\n",
       "      <td>-79.188711</td>\n",
       "    </tr>\n",
       "    <tr>\n",
       "      <th>3</th>\n",
       "      <td>M1G</td>\n",
       "      <td>43.770992</td>\n",
       "      <td>-79.216917</td>\n",
       "    </tr>\n",
       "    <tr>\n",
       "      <th>4</th>\n",
       "      <td>M1H</td>\n",
       "      <td>43.773136</td>\n",
       "      <td>-79.239476</td>\n",
       "    </tr>\n",
       "  </tbody>\n",
       "</table>\n",
       "</div>"
      ],
      "text/plain": [
       "  PostalCode   Latitude  Longitude\n",
       "0        M1B  43.806686 -79.194353\n",
       "1        M1C  43.784535 -79.160497\n",
       "2        M1E  43.763573 -79.188711\n",
       "3        M1G  43.770992 -79.216917\n",
       "4        M1H  43.773136 -79.239476"
      ]
     },
     "execution_count": 15,
     "metadata": {},
     "output_type": "execute_result"
    }
   ],
   "source": [
    "# rename the column \"PostalCode\"\n",
    "coordinates.rename(columns={\"Postal Code\": \"PostalCode\"}, inplace=True)\n",
    "coordinates.head()"
   ]
  },
  {
   "cell_type": "code",
   "execution_count": 16,
   "metadata": {},
   "outputs": [
    {
     "data": {
      "text/html": [
       "<div>\n",
       "<style scoped>\n",
       "    .dataframe tbody tr th:only-of-type {\n",
       "        vertical-align: middle;\n",
       "    }\n",
       "\n",
       "    .dataframe tbody tr th {\n",
       "        vertical-align: top;\n",
       "    }\n",
       "\n",
       "    .dataframe thead th {\n",
       "        text-align: right;\n",
       "    }\n",
       "</style>\n",
       "<table border=\"1\" class=\"dataframe\">\n",
       "  <thead>\n",
       "    <tr style=\"text-align: right;\">\n",
       "      <th></th>\n",
       "      <th>PostalCode</th>\n",
       "      <th>Borough</th>\n",
       "      <th>Neighborhood</th>\n",
       "      <th>Latitude</th>\n",
       "      <th>Longitude</th>\n",
       "    </tr>\n",
       "  </thead>\n",
       "  <tbody>\n",
       "    <tr>\n",
       "      <th>0</th>\n",
       "      <td>M1B</td>\n",
       "      <td>Scarborough</td>\n",
       "      <td>Rouge, Malvern</td>\n",
       "      <td>43.806686</td>\n",
       "      <td>-79.194353</td>\n",
       "    </tr>\n",
       "    <tr>\n",
       "      <th>1</th>\n",
       "      <td>M1C</td>\n",
       "      <td>Scarborough</td>\n",
       "      <td>Highland Creek, Rouge Hill, Port Union</td>\n",
       "      <td>43.784535</td>\n",
       "      <td>-79.160497</td>\n",
       "    </tr>\n",
       "    <tr>\n",
       "      <th>2</th>\n",
       "      <td>M1E</td>\n",
       "      <td>Scarborough</td>\n",
       "      <td>Guildwood, Morningside, West Hill</td>\n",
       "      <td>43.763573</td>\n",
       "      <td>-79.188711</td>\n",
       "    </tr>\n",
       "    <tr>\n",
       "      <th>3</th>\n",
       "      <td>M1G</td>\n",
       "      <td>Scarborough</td>\n",
       "      <td>Woburn</td>\n",
       "      <td>43.770992</td>\n",
       "      <td>-79.216917</td>\n",
       "    </tr>\n",
       "    <tr>\n",
       "      <th>4</th>\n",
       "      <td>M1H</td>\n",
       "      <td>Scarborough</td>\n",
       "      <td>Cedarbrae</td>\n",
       "      <td>43.773136</td>\n",
       "      <td>-79.239476</td>\n",
       "    </tr>\n",
       "  </tbody>\n",
       "</table>\n",
       "</div>"
      ],
      "text/plain": [
       "  PostalCode      Borough                            Neighborhood   Latitude  \\\n",
       "0        M1B  Scarborough                          Rouge, Malvern  43.806686   \n",
       "1        M1C  Scarborough  Highland Creek, Rouge Hill, Port Union  43.784535   \n",
       "2        M1E  Scarborough       Guildwood, Morningside, West Hill  43.763573   \n",
       "3        M1G  Scarborough                                  Woburn  43.770992   \n",
       "4        M1H  Scarborough                               Cedarbrae  43.773136   \n",
       "\n",
       "   Longitude  \n",
       "0 -79.194353  \n",
       "1 -79.160497  \n",
       "2 -79.188711  \n",
       "3 -79.216917  \n",
       "4 -79.239476  "
      ]
     },
     "execution_count": 16,
     "metadata": {},
     "output_type": "execute_result"
    }
   ],
   "source": [
    "# merge two table on the column \"PostalCode\"\n",
    "toronto_df_new = toronto_df_grp.merge(coordinates, on=\"PostalCode\", how=\"left\")\n",
    "toronto_df_new.head()"
   ]
  },
  {
   "cell_type": "code",
   "execution_count": 17,
   "metadata": {},
   "outputs": [
    {
     "data": {
      "text/html": [
       "<div>\n",
       "<style scoped>\n",
       "    .dataframe tbody tr th:only-of-type {\n",
       "        vertical-align: middle;\n",
       "    }\n",
       "\n",
       "    .dataframe tbody tr th {\n",
       "        vertical-align: top;\n",
       "    }\n",
       "\n",
       "    .dataframe thead th {\n",
       "        text-align: right;\n",
       "    }\n",
       "</style>\n",
       "<table border=\"1\" class=\"dataframe\">\n",
       "  <thead>\n",
       "    <tr style=\"text-align: right;\">\n",
       "      <th></th>\n",
       "      <th>PostalCode</th>\n",
       "      <th>Borough</th>\n",
       "      <th>Neighborhood</th>\n",
       "      <th>Latitude</th>\n",
       "      <th>Longitude</th>\n",
       "    </tr>\n",
       "  </thead>\n",
       "  <tbody>\n",
       "    <tr>\n",
       "      <th>0</th>\n",
       "      <td>M5G</td>\n",
       "      <td>Downtown Toronto</td>\n",
       "      <td>Central Bay Street</td>\n",
       "      <td>43.657952</td>\n",
       "      <td>-79.387383</td>\n",
       "    </tr>\n",
       "    <tr>\n",
       "      <th>1</th>\n",
       "      <td>M2H</td>\n",
       "      <td>North York</td>\n",
       "      <td>Hillcrest Village</td>\n",
       "      <td>43.803762</td>\n",
       "      <td>-79.363452</td>\n",
       "    </tr>\n",
       "    <tr>\n",
       "      <th>2</th>\n",
       "      <td>M4B</td>\n",
       "      <td>East York</td>\n",
       "      <td>Woodbine Gardens, Parkview Hill</td>\n",
       "      <td>43.706397</td>\n",
       "      <td>-79.309937</td>\n",
       "    </tr>\n",
       "    <tr>\n",
       "      <th>3</th>\n",
       "      <td>M1J</td>\n",
       "      <td>Scarborough</td>\n",
       "      <td>Scarborough Village</td>\n",
       "      <td>43.744734</td>\n",
       "      <td>-79.239476</td>\n",
       "    </tr>\n",
       "    <tr>\n",
       "      <th>4</th>\n",
       "      <td>M4G</td>\n",
       "      <td>East York</td>\n",
       "      <td>Leaside</td>\n",
       "      <td>43.709060</td>\n",
       "      <td>-79.363452</td>\n",
       "    </tr>\n",
       "    <tr>\n",
       "      <th>5</th>\n",
       "      <td>M4M</td>\n",
       "      <td>East Toronto</td>\n",
       "      <td>Studio District</td>\n",
       "      <td>43.659526</td>\n",
       "      <td>-79.340923</td>\n",
       "    </tr>\n",
       "    <tr>\n",
       "      <th>6</th>\n",
       "      <td>M1R</td>\n",
       "      <td>Scarborough</td>\n",
       "      <td>Maryvale, Wexford</td>\n",
       "      <td>43.750072</td>\n",
       "      <td>-79.295849</td>\n",
       "    </tr>\n",
       "    <tr>\n",
       "      <th>7</th>\n",
       "      <td>M9V</td>\n",
       "      <td>Etobicoke</td>\n",
       "      <td>Albion Gardens, Beaumond Heights, Humbergate, ...</td>\n",
       "      <td>43.739416</td>\n",
       "      <td>-79.588437</td>\n",
       "    </tr>\n",
       "    <tr>\n",
       "      <th>8</th>\n",
       "      <td>M9L</td>\n",
       "      <td>North York</td>\n",
       "      <td>Humber Summit</td>\n",
       "      <td>43.756303</td>\n",
       "      <td>-79.565963</td>\n",
       "    </tr>\n",
       "    <tr>\n",
       "      <th>9</th>\n",
       "      <td>M5V</td>\n",
       "      <td>Downtown Toronto</td>\n",
       "      <td>CN Tower, Bathurst Quay, Island airport, Harbo...</td>\n",
       "      <td>43.628947</td>\n",
       "      <td>-79.394420</td>\n",
       "    </tr>\n",
       "    <tr>\n",
       "      <th>10</th>\n",
       "      <td>M1B</td>\n",
       "      <td>Scarborough</td>\n",
       "      <td>Rouge, Malvern</td>\n",
       "      <td>43.806686</td>\n",
       "      <td>-79.194353</td>\n",
       "    </tr>\n",
       "    <tr>\n",
       "      <th>11</th>\n",
       "      <td>M5A</td>\n",
       "      <td>Downtown Toronto</td>\n",
       "      <td>Harbourfront, Regent Park</td>\n",
       "      <td>43.654260</td>\n",
       "      <td>-79.360636</td>\n",
       "    </tr>\n",
       "  </tbody>\n",
       "</table>\n",
       "</div>"
      ],
      "text/plain": [
       "   PostalCode           Borough  \\\n",
       "0         M5G  Downtown Toronto   \n",
       "1         M2H        North York   \n",
       "2         M4B         East York   \n",
       "3         M1J       Scarborough   \n",
       "4         M4G         East York   \n",
       "5         M4M      East Toronto   \n",
       "6         M1R       Scarborough   \n",
       "7         M9V         Etobicoke   \n",
       "8         M9L        North York   \n",
       "9         M5V  Downtown Toronto   \n",
       "10        M1B       Scarborough   \n",
       "11        M5A  Downtown Toronto   \n",
       "\n",
       "                                         Neighborhood   Latitude  Longitude  \n",
       "0                                  Central Bay Street  43.657952 -79.387383  \n",
       "1                                   Hillcrest Village  43.803762 -79.363452  \n",
       "2                     Woodbine Gardens, Parkview Hill  43.706397 -79.309937  \n",
       "3                                 Scarborough Village  43.744734 -79.239476  \n",
       "4                                             Leaside  43.709060 -79.363452  \n",
       "5                                     Studio District  43.659526 -79.340923  \n",
       "6                                   Maryvale, Wexford  43.750072 -79.295849  \n",
       "7   Albion Gardens, Beaumond Heights, Humbergate, ...  43.739416 -79.588437  \n",
       "8                                       Humber Summit  43.756303 -79.565963  \n",
       "9   CN Tower, Bathurst Quay, Island airport, Harbo...  43.628947 -79.394420  \n",
       "10                                     Rouge, Malvern  43.806686 -79.194353  \n",
       "11                          Harbourfront, Regent Park  43.654260 -79.360636  "
      ]
     },
     "execution_count": 17,
     "metadata": {},
     "output_type": "execute_result"
    }
   ],
   "source": [
    "column_names = [\"PostalCode\", \"Borough\", \"Neighborhood\", \"Latitude\", \"Longitude\"]\n",
    "test_df = pd.DataFrame(columns=column_names)\n",
    "\n",
    "test_list = [\"M5G\", \"M2H\", \"M4B\", \"M1J\", \"M4G\", \"M4M\", \"M1R\", \"M9V\", \"M9L\", \"M5V\", \"M1B\", \"M5A\"]\n",
    "\n",
    "for postcode in test_list:\n",
    "    test_df = test_df.append(toronto_df_new[toronto_df_new[\"PostalCode\"]==postcode], ignore_index=True)\n",
    "    \n",
    "test_df"
   ]
  },
  {
   "cell_type": "code",
   "execution_count": 20,
   "metadata": {},
   "outputs": [
    {
     "name": "stdout",
     "output_type": "stream",
     "text": [
      "The geograpical coordinate of Toronto are 43.653963, -79.387207.\n"
     ]
    }
   ],
   "source": [
    "##Use geopy library to get the latitude and longitude values of Toronto\n",
    "from geopy.geocoders import Nominatim \n",
    "address = 'Toronto'\n",
    "geolocator = Nominatim(user_agent=\"my-application\")\n",
    "location = geolocator.geocode(address)\n",
    "latitude = location.latitude\n",
    "longitude = location.longitude\n",
    "print('The geograpical coordinate of Toronto are {}, {}.'.format(latitude, longitude))"
   ]
  },
  {
   "cell_type": "code",
   "execution_count": 21,
   "metadata": {},
   "outputs": [
    {
     "data": {
      "text/html": [
       "<div style=\"width:100%;\"><div style=\"position:relative;width:100%;height:0;padding-bottom:60%;\"><iframe src=\"data:text/html;charset=utf-8;base64,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\" style=\"position:absolute;width:100%;height:100%;left:0;top:0;border:none !important;\" allowfullscreen webkitallowfullscreen mozallowfullscreen></iframe></div></div>"
      ],
      "text/plain": [
       "<folium.folium.Map at 0x166875d5d68>"
      ]
     },
     "execution_count": 21,
     "metadata": {},
     "output_type": "execute_result"
    }
   ],
   "source": [
    "map_toronto = folium.Map(location=[latitude, longitude], zoom_start=10)\n",
    "\n",
    "# add markers to map\n",
    "for lat, lng, borough, neighborhood in zip(toronto_df_new['Latitude'], toronto_df_new['Longitude'], toronto_df_new['Borough'], toronto_df_new['Neighborhood']):\n",
    "    label = '{}, {}'.format(neighborhood, borough)\n",
    "    label = folium.Popup(label, parse_html=True)\n",
    "    folium.CircleMarker(\n",
    "        [lat, lng],\n",
    "        radius=5,\n",
    "        popup=label,\n",
    "        color='blue',\n",
    "        fill=True,\n",
    "        fill_color='#3186cc',\n",
    "        fill_opacity=0.7).add_to(map_toronto)  \n",
    "    \n",
    "map_toronto"
   ]
  },
  {
   "cell_type": "code",
   "execution_count": 22,
   "metadata": {},
   "outputs": [
    {
     "data": {
      "text/plain": [
       "['East Toronto', 'Central Toronto', 'Downtown Toronto', 'West Toronto']"
      ]
     },
     "execution_count": 22,
     "metadata": {},
     "output_type": "execute_result"
    }
   ],
   "source": [
    "# filter borough names that contain the word Toronto\n",
    "borough_names = list(toronto_df_new.Borough.unique())\n",
    "\n",
    "borough_with_toronto = []\n",
    "\n",
    "for x in borough_names:\n",
    "    if \"toronto\" in x.lower():\n",
    "        borough_with_toronto.append(x)\n",
    "        \n",
    "borough_with_toronto"
   ]
  },
  {
   "cell_type": "code",
   "execution_count": 23,
   "metadata": {},
   "outputs": [
    {
     "name": "stdout",
     "output_type": "stream",
     "text": [
      "(38, 5)\n"
     ]
    },
    {
     "data": {
      "text/html": [
       "<div>\n",
       "<style scoped>\n",
       "    .dataframe tbody tr th:only-of-type {\n",
       "        vertical-align: middle;\n",
       "    }\n",
       "\n",
       "    .dataframe tbody tr th {\n",
       "        vertical-align: top;\n",
       "    }\n",
       "\n",
       "    .dataframe thead th {\n",
       "        text-align: right;\n",
       "    }\n",
       "</style>\n",
       "<table border=\"1\" class=\"dataframe\">\n",
       "  <thead>\n",
       "    <tr style=\"text-align: right;\">\n",
       "      <th></th>\n",
       "      <th>PostalCode</th>\n",
       "      <th>Borough</th>\n",
       "      <th>Neighborhood</th>\n",
       "      <th>Latitude</th>\n",
       "      <th>Longitude</th>\n",
       "    </tr>\n",
       "  </thead>\n",
       "  <tbody>\n",
       "    <tr>\n",
       "      <th>0</th>\n",
       "      <td>M4E</td>\n",
       "      <td>East Toronto</td>\n",
       "      <td>The Beaches</td>\n",
       "      <td>43.676357</td>\n",
       "      <td>-79.293031</td>\n",
       "    </tr>\n",
       "    <tr>\n",
       "      <th>1</th>\n",
       "      <td>M4K</td>\n",
       "      <td>East Toronto</td>\n",
       "      <td>The Danforth West, Riverdale</td>\n",
       "      <td>43.679557</td>\n",
       "      <td>-79.352188</td>\n",
       "    </tr>\n",
       "    <tr>\n",
       "      <th>2</th>\n",
       "      <td>M4L</td>\n",
       "      <td>East Toronto</td>\n",
       "      <td>The Beaches West, India Bazaar</td>\n",
       "      <td>43.668999</td>\n",
       "      <td>-79.315572</td>\n",
       "    </tr>\n",
       "    <tr>\n",
       "      <th>3</th>\n",
       "      <td>M4M</td>\n",
       "      <td>East Toronto</td>\n",
       "      <td>Studio District</td>\n",
       "      <td>43.659526</td>\n",
       "      <td>-79.340923</td>\n",
       "    </tr>\n",
       "    <tr>\n",
       "      <th>4</th>\n",
       "      <td>M4N</td>\n",
       "      <td>Central Toronto</td>\n",
       "      <td>Lawrence Park</td>\n",
       "      <td>43.728020</td>\n",
       "      <td>-79.388790</td>\n",
       "    </tr>\n",
       "  </tbody>\n",
       "</table>\n",
       "</div>"
      ],
      "text/plain": [
       "  PostalCode          Borough                    Neighborhood   Latitude  \\\n",
       "0        M4E     East Toronto                     The Beaches  43.676357   \n",
       "1        M4K     East Toronto    The Danforth West, Riverdale  43.679557   \n",
       "2        M4L     East Toronto  The Beaches West, India Bazaar  43.668999   \n",
       "3        M4M     East Toronto                 Studio District  43.659526   \n",
       "4        M4N  Central Toronto                   Lawrence Park  43.728020   \n",
       "\n",
       "   Longitude  \n",
       "0 -79.293031  \n",
       "1 -79.352188  \n",
       "2 -79.315572  \n",
       "3 -79.340923  \n",
       "4 -79.388790  "
      ]
     },
     "execution_count": 23,
     "metadata": {},
     "output_type": "execute_result"
    }
   ],
   "source": [
    "# create a new DataFrame with only boroughs that contain the word Toronto\n",
    "toronto_df_new = toronto_df_new[toronto_df_new['Borough'].isin(borough_with_toronto)].reset_index(drop=True)\n",
    "print(toronto_df_new.shape)\n",
    "toronto_df_new.head()"
   ]
  },
  {
   "cell_type": "code",
   "execution_count": 24,
   "metadata": {},
   "outputs": [
    {
     "data": {
      "text/html": [
       "<div style=\"width:100%;\"><div style=\"position:relative;width:100%;height:0;padding-bottom:60%;\"><iframe src=\"data:text/html;charset=utf-8;base64,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\" style=\"position:absolute;width:100%;height:100%;left:0;top:0;border:none !important;\" allowfullscreen webkitallowfullscreen mozallowfullscreen></iframe></div></div>"
      ],
      "text/plain": [
       "<folium.folium.Map at 0x166876c1860>"
      ]
     },
     "execution_count": 24,
     "metadata": {},
     "output_type": "execute_result"
    }
   ],
   "source": [
    "# create map of Toronto using latitude and longitude values\n",
    "map_toronto = folium.Map(location=[latitude, longitude], zoom_start=10)\n",
    "\n",
    "# add markers to map\n",
    "for lat, lng, borough, neighborhood in zip(toronto_df_new['Latitude'], toronto_df_new['Longitude'], toronto_df_new['Borough'], toronto_df_new['Neighborhood']):\n",
    "    label = '{}, {}'.format(neighborhood, borough)\n",
    "    label = folium.Popup(label, parse_html=True)\n",
    "    folium.CircleMarker(\n",
    "        [lat, lng],\n",
    "        radius=5,\n",
    "        popup=label,\n",
    "        color='blue',\n",
    "        fill=True,\n",
    "        fill_color='#3186cc',\n",
    "        fill_opacity=0.7).add_to(map_toronto)  \n",
    "    \n",
    "map_toronto"
   ]
  },
  {
   "cell_type": "code",
   "execution_count": 25,
   "metadata": {},
   "outputs": [
    {
     "name": "stdout",
     "output_type": "stream",
     "text": [
      "Your credentails:\n",
      "CLIENT_ID: your Foursquare ID\n",
      "CLIENT_SECRET:your Foursquare Secret\n"
     ]
    }
   ],
   "source": [
    "# define Foursquare Credentials and Version\n",
    "CLIENT_ID = 'your Foursquare ID' # your Foursquare ID\n",
    "CLIENT_SECRET = 'your Foursquare Secret' # your Foursquare Secret\n",
    "VERSION = '20180605' # Foursquare API version\n",
    "\n",
    "print('Your credentails:')\n",
    "print('CLIENT_ID: ' + CLIENT_ID)\n",
    "print('CLIENT_SECRET:' + CLIENT_SECRET)"
   ]
  },
  {
   "cell_type": "code",
   "execution_count": null,
   "metadata": {},
   "outputs": [],
   "source": [
    "radius = 500\n",
    "LIMIT = 100\n",
    "\n",
    "venues = []\n",
    "\n",
    "for lat, long, post, borough, neighborhood in zip(toronto_df_new['Latitude'], toronto_df_new['Longitude'], toronto_df_new['PostalCode'], toronto_df_new['Borough'], toronto_df_new['Neighborhood']):\n",
    "    url = \"https://api.foursquare.com/v2/venues/explore?client_id={}&client_secret={}&v={}&ll={},{}&radius={}&limit={}\".format(\n",
    "        CLIENT_ID,\n",
    "        CLIENT_SECRET,\n",
    "        VERSION,\n",
    "        lat,\n",
    "        long,\n",
    "        radius, \n",
    "        LIMIT)\n",
    "    \n",
    "    results = requests.get(url).json()[\"response\"]['groups'][0]['items']\n",
    "    \n",
    "    for venue in results:\n",
    "        venues.append((\n",
    "            post, \n",
    "            borough,\n",
    "            neighborhood,\n",
    "            lat, \n",
    "            long, \n",
    "            venue['venue']['name'], \n",
    "            venue['venue']['location']['lat'], \n",
    "            venue['venue']['location']['lng'],  \n",
    "            venue['venue']['categories'][0]['name']))"
   ]
  },
  {
   "cell_type": "code",
   "execution_count": null,
   "metadata": {},
   "outputs": [],
   "source": [
    "# convert the venues list into a new DataFrame\n",
    "venues_df = pd.DataFrame(venues)\n",
    "\n",
    "# define the column names\n",
    "venues_df.columns = ['PostalCode', 'Borough', 'Neighborhood', 'BoroughLatitude', 'BoroughLongitude', 'VenueName', 'VenueLatitude', 'VenueLongitude', 'VenueCategory']\n",
    "\n",
    "print(venues_df.shape)\n",
    "venues_df.head()"
   ]
  },
  {
   "cell_type": "code",
   "execution_count": null,
   "metadata": {},
   "outputs": [],
   "source": [
    "venues_df.groupby([\"PostalCode\", \"Borough\", \"Neighborhood\"]).count()"
   ]
  },
  {
   "cell_type": "code",
   "execution_count": null,
   "metadata": {},
   "outputs": [],
   "source": [
    "##Let's find out how many unique categories can be curated from all the returned venues\n",
    "print('There are {} uniques categories.'.format(len(venues_df['VenueCategory'].unique())))"
   ]
  },
  {
   "cell_type": "code",
   "execution_count": null,
   "metadata": {},
   "outputs": [],
   "source": [
    "venues_df['VenueCategory'].unique()[:50]"
   ]
  },
  {
   "cell_type": "code",
   "execution_count": null,
   "metadata": {},
   "outputs": [],
   "source": [
    "#Analyze Each Area\n",
    "\n",
    "# one hot encoding\n",
    "toronto_onehot = pd.get_dummies(venues_df[['VenueCategory']], prefix=\"\", prefix_sep=\"\")\n",
    "\n",
    "# add postal, borough and neighborhood column back to dataframe\n",
    "toronto_onehot['PostalCode'] = venues_df['PostalCode'] \n",
    "toronto_onehot['Borough'] = venues_df['Borough'] \n",
    "toronto_onehot['Neighborhoods'] = venues_df['Neighborhood'] \n",
    "\n",
    "# move postal, borough and neighborhood column to the first column\n",
    "fixed_columns = list(toronto_onehot.columns[-3:]) + list(toronto_onehot.columns[:-3])\n",
    "toronto_onehot = toronto_onehot[fixed_columns]\n",
    "\n",
    "print(toronto_onehot.shape)\n",
    "toronto_onehot.head()"
   ]
  },
  {
   "cell_type": "code",
   "execution_count": null,
   "metadata": {},
   "outputs": [],
   "source": [
    "#Next, let's group rows by neighborhood and by taking the mean of the frequency of occurrence of each category\n",
    "\n",
    "toronto_grouped = toronto_onehot.groupby([\"PostalCode\", \"Borough\", \"Neighborhoods\"]).mean().reset_index()\n",
    "\n",
    "print(toronto_grouped.shape)\n",
    "toronto_grouped"
   ]
  },
  {
   "cell_type": "code",
   "execution_count": null,
   "metadata": {},
   "outputs": [],
   "source": [
    "num_top_venues = 10\n",
    "\n",
    "indicators = ['st', 'nd', 'rd']\n",
    "\n",
    "# create columns according to number of top venues\n",
    "areaColumns = ['PostalCode', 'Borough', 'Neighborhoods']\n",
    "freqColumns = []\n",
    "for ind in np.arange(num_top_venues):\n",
    "    try:\n",
    "        freqColumns.append('{}{} Most Common Venue'.format(ind+1, indicators[ind]))\n",
    "    except:\n",
    "        freqColumns.append('{}th Most Common Venue'.format(ind+1))\n",
    "columns = areaColumns+freqColumns\n",
    "\n",
    "# create a new dataframe\n",
    "neighborhoods_venues_sorted = pd.DataFrame(columns=columns)\n",
    "neighborhoods_venues_sorted['PostalCode'] = toronto_grouped['PostalCode']\n",
    "neighborhoods_venues_sorted['Borough'] = toronto_grouped['Borough']\n",
    "neighborhoods_venues_sorted['Neighborhoods'] = toronto_grouped['Neighborhoods']\n",
    "\n",
    "for ind in np.arange(toronto_grouped.shape[0]):\n",
    "    row_categories = toronto_grouped.iloc[ind, :].iloc[3:]\n",
    "    row_categories_sorted = row_categories.sort_values(ascending=False)\n",
    "    neighborhoods_venues_sorted.iloc[ind, 3:] = row_categories_sorted.index.values[0:num_top_venues]\n",
    "\n",
    "# neighborhoods_venues_sorted.sort_values(freqColumns, inplace=True)\n",
    "print(neighborhoods_venues_sorted.shape)\n",
    "neighborhoods_venues_sorted"
   ]
  },
  {
   "cell_type": "code",
   "execution_count": null,
   "metadata": {},
   "outputs": [],
   "source": [
    "##cluster areas\n",
    "# set number of clusters\n",
    "kclusters = 5\n",
    "\n",
    "toronto_grouped_clustering = toronto_grouped.drop([\"PostalCode\", \"Borough\", \"Neighborhoods\"], 1)\n",
    "\n",
    "# run k-means clustering\n",
    "kmeans = KMeans(n_clusters=kclusters, random_state=0).fit(toronto_grouped_clustering)\n",
    "\n",
    "# check cluster labels generated for each row in the dataframe\n",
    "kmeans.labels_[0:10]"
   ]
  },
  {
   "cell_type": "code",
   "execution_count": null,
   "metadata": {},
   "outputs": [],
   "source": [
    "# create a new dataframe that includes the cluster as well as the top 10 venues for each neighborhood.\n",
    "toronto_merged = toronto_df_new.copy()\n",
    "\n",
    "# add clustering labels\n",
    "toronto_merged[\"Cluster Labels\"] = kmeans.labels_\n",
    "\n",
    "# merge toronto_grouped with toronto_data to add latitude/longitude for each neighborhood\n",
    "toronto_merged = toronto_merged.join(neighborhoods_venues_sorted.drop([\"Borough\", \"Neighborhoods\"], 1).set_index(\"PostalCode\"), on=\"PostalCode\")\n",
    "\n",
    "print(toronto_merged.shape)\n",
    "toronto_merged.head() # check the last columns!"
   ]
  },
  {
   "cell_type": "code",
   "execution_count": null,
   "metadata": {},
   "outputs": [],
   "source": [
    "# sort the results by Cluster Labels\n",
    "print(toronto_merged.shape)\n",
    "toronto_merged.sort_values([\"Cluster Labels\"], inplace=True)\n",
    "toronto_merged"
   ]
  },
  {
   "cell_type": "code",
   "execution_count": null,
   "metadata": {},
   "outputs": [],
   "source": [
    "# create map\n",
    "map_clusters = folium.Map(location=[latitude, longitude], zoom_start=11)\n",
    "\n",
    "# set color scheme for the clusters\n",
    "x = np.arange(kclusters)\n",
    "ys = [i+x+(i*x)**2 for i in range(kclusters)]\n",
    "colors_array = cm.rainbow(np.linspace(0, 1, len(ys)))\n",
    "rainbow = [colors.rgb2hex(i) for i in colors_array]\n",
    "\n",
    "# add markers to the map\n",
    "markers_colors = []\n",
    "for lat, lon, post, bor, poi, cluster in zip(toronto_merged['Latitude'], toronto_merged['Longitude'], toronto_merged['PostalCode'], toronto_merged['Borough'], toronto_merged['Neighborhood'], toronto_merged['Cluster Labels']):\n",
    "    label = folium.Popup('{} ({}): {} - Cluster {}'.format(bor, post, poi, cluster), parse_html=True)\n",
    "    folium.CircleMarker(\n",
    "        [lat, lon],\n",
    "        radius=5,\n",
    "        popup=label,\n",
    "        color=rainbow[cluster-1],\n",
    "        fill=True,\n",
    "        fill_color=rainbow[cluster-1],\n",
    "        fill_opacity=0.7).add_to(map_clusters)\n",
    "       \n",
    "map_clusters"
   ]
  },
  {
   "cell_type": "markdown",
   "metadata": {},
   "source": [
    "# examine cluster"
   ]
  },
  {
   "cell_type": "code",
   "execution_count": null,
   "metadata": {},
   "outputs": [],
   "source": [
    "#cluster 1\n",
    "toronto_merged.loc[toronto_merged['Cluster Labels'] == 0, toronto_merged.columns[[1] + list(range(5, toronto_merged.shape[1]))]]"
   ]
  },
  {
   "cell_type": "code",
   "execution_count": null,
   "metadata": {},
   "outputs": [],
   "source": [
    "#cluster 2\n",
    "toronto_merged.loc[toronto_merged['Cluster Labels'] == 1, toronto_merged.columns[[1] + list(range(5, toronto_merged.shape[1]))]]"
   ]
  },
  {
   "cell_type": "code",
   "execution_count": null,
   "metadata": {},
   "outputs": [],
   "source": [
    "#cluster 3\n",
    "toronto_merged.loc[toronto_merged['Cluster Labels'] == 2, toronto_merged.columns[[1] + list(range(5, toronto_merged.shape[1]))]]"
   ]
  },
  {
   "cell_type": "code",
   "execution_count": null,
   "metadata": {},
   "outputs": [],
   "source": [
    "# cluster 4\n",
    "toronto_merged.loc[toronto_merged['Cluster Labels'] == 3, toronto_merged.columns[[1] + list(range(5, toronto_merged.shape[1]))]]"
   ]
  },
  {
   "cell_type": "code",
   "execution_count": null,
   "metadata": {},
   "outputs": [],
   "source": [
    "# cluster 5\n",
    "toronto_merged.loc[toronto_merged['Cluster Labels'] == 4, toronto_merged.columns[[1] + list(range(5, toronto_merged.shape[1]))]]"
   ]
  },
  {
   "cell_type": "markdown",
   "metadata": {},
   "source": [
    "# Observations:\n",
    "Most of the neighborhoods fall into Cluster 1 which are mostly business areas with cafe, restaurants, supermarkets etc. Cluster 2 is just a garden, Cluster 3 are playground and park, Cluster 4 park and swim school, and lastly Cluster 5 park and trail."
   ]
  }
 ],
 "metadata": {
  "kernelspec": {
   "display_name": "Python 3",
   "language": "python",
   "name": "python3"
  }
 },
 "nbformat": 4,
 "nbformat_minor": 2
}
